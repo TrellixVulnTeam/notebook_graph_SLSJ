{
 "cells": [
  {
   "cell_type": "markdown",
   "metadata": {
    "deletable": true,
    "editable": true
   },
   "source": [
    "# Test Access to Earth Engine\n",
    "\n",
    "Run the code blocks below to test if the notebook server is authorized to communicate with the Earth Engine backend servers."
   ]
  },
  {
   "cell_type": "markdown",
   "metadata": {
    "deletable": true,
    "editable": true
   },
   "source": [
    "First, check if the IPython Widgets library is available on the server."
   ]
  },
  {
   "cell_type": "code",
   "execution_count": null,
   "metadata": {
    "codeCollapsed": false,
    "collapsed": false,
    "deletable": true,
    "editable": true,
    "hiddenCell": true
   },
   "outputs": [],
   "source": [
    "# Code to check the IPython Widgets library.\n",
    "try:\n",
    "  import ipywidgets\n",
    "  print('The IPython Widgets library (version {0}) is available on this server.'.format(\n",
    "      ipywidgets.__version__\n",
    "    ))\n",
    "except ImportError:\n",
    "  print('The IPython Widgets library is not available on this server.\\n'\n",
    "        'Please see https://github.com/jupyter-widgets/ipywidgets '\n",
    "        'for information on installing the library.')\n",
    "  raise"
   ]
  },
  {
   "cell_type": "markdown",
   "metadata": {
    "deletable": true,
    "editable": true
   },
   "source": [
    "Next, check if the Earth Engine API is available on the server."
   ]
  },
  {
   "cell_type": "code",
   "execution_count": null,
   "metadata": {
    "collapsed": false,
    "deletable": true,
    "editable": true,
    "hiddenCell": true
   },
   "outputs": [],
   "source": [
    "# Code to check the Earth Engine API library.\n",
    "try:\n",
    "  import ee\n",
    "  print('The Earth Engine Python API (version {0}) is available on this server.'.format(\n",
    "      ee.__version__\n",
    "    ))\n",
    "except ImportError:\n",
    "  print('The Earth Engine Python API library is not available on this server.\\n'\n",
    "        'Please see https://developers.google.com/earth-engine/python_install '\n",
    "        'for information on installing the library.')\n",
    "  raise"
   ]
  },
  {
   "cell_type": "markdown",
   "metadata": {
    "deletable": true,
    "editable": true
   },
   "source": [
    "Finally, check if the notebook server is authorized to access the Earth Engine backend servers."
   ]
  },
  {
   "cell_type": "code",
   "execution_count": null,
   "metadata": {
    "collapsed": false,
    "deletable": true,
    "editable": true,
    "hiddenCell": true
   },
   "outputs": [],
   "source": [
    "# Code to check if authorized to access Earth Engine.\n",
    "import cStringIO\n",
    "import os\n",
    "import urllib\n",
    "\n",
    "def isAuthorized():\n",
    "  try:\n",
    "    ee.Initialize()\n",
    "    return True\n",
    "  except:\n",
    "    return False\n",
    "\n",
    "form_item_layout = ipywidgets.Layout(width=\"100%\", align_items='center')\n",
    "  \n",
    "if isAuthorized():\n",
    "  \n",
    "  def revoke_credentials(sender):\n",
    "    credentials = ee.oauth.get_credentials_path()\n",
    "    if os.path.exists(credentials):\n",
    "      os.remove(credentials)\n",
    "    print('Credentials have been revoked.')\n",
    "  \n",
    "  # Define widgets that may be displayed.\n",
    "  auth_status_button = ipywidgets.Button(\n",
    "    layout=form_item_layout,\n",
    "    disabled = True,\n",
    "    description = 'The server is authorized to access Earth Engine',\n",
    "    button_style = 'success',\n",
    "    icon = 'check'\n",
    "  )\n",
    "  \n",
    "  instructions = ipywidgets.Button(\n",
    "    layout=form_item_layout,\n",
    "    description = 'Click here to revoke authorization',\n",
    "    button_style = 'danger',\n",
    "    disabled = False,\n",
    "  )\n",
    "  instructions.on_click(revoke_credentials)\n",
    "\n",
    "else:\n",
    "  \n",
    "  def save_credentials(sender):\n",
    "    try:\n",
    "      token = ee.oauth.request_token(get_auth_textbox.value.strip())\n",
    "    except Exception as e:\n",
    "      print(e)\n",
    "      return\n",
    "    ee.oauth.write_token(token)\n",
    "    get_auth_textbox.value = ''  # Clear the textbox.\n",
    "    print('Successfully saved authorization token.')\n",
    "\n",
    "  # Define widgets that may be displayed.\n",
    "  get_auth_textbox = ipywidgets.Text(\n",
    "    placeholder='Paste authorization code here',\n",
    "    description='Authentication Code:'\n",
    "  )\n",
    "  get_auth_textbox.on_submit(save_credentials)\n",
    "\n",
    "  auth_status_button = ipywidgets.Button(\n",
    "    layout=form_item_layout,\n",
    "    button_style = 'danger',\n",
    "    description = 'The server is not authorized to access Earth Engine',\n",
    "    disabled = True\n",
    "  )\n",
    "  \n",
    "  instructions = ipywidgets.VBox(\n",
    "    [\n",
    "      ipywidgets.HTML(\n",
    "        'Click on the link below to start the authentication and authorization process. '\n",
    "        'Once you have received an authorization code, paste it in the box below and press return.'\n",
    "      ),\n",
    "      ipywidgets.HTML(\n",
    "        '<a href=\"{url}\" target=\"auth\">Open Authentication Tab</a><br/>'.format(\n",
    "          url=ee.oauth.get_authorization_url()\n",
    "        )\n",
    "      ),\n",
    "      get_auth_textbox\n",
    "    ],\n",
    "    layout=form_item_layout\n",
    "  )\n",
    "\n",
    "# Display the form.\n",
    "form = ipywidgets.VBox([\n",
    "  auth_status_button,\n",
    "  instructions\n",
    "])\n",
    "form"
   ]
  },
  {
   "cell_type": "markdown",
   "metadata": {},
   "source": [
    "Once the server is authorized, you can retrieve data from Earth Engine and use it in the notebook."
   ]
  },
  {
   "cell_type": "code",
   "execution_count": null,
   "metadata": {
    "codeCollapsed": false,
    "collapsed": false,
    "hiddenCell": true
   },
   "outputs": [],
   "source": [
    "# Code to display an Earth Engine generated image.\n",
    "from IPython.display import Image\n",
    "\n",
    "url = ee.Image(\"CGIAR/SRTM90_V4\").getThumbUrl({'min':0, 'max':3000})\n",
    "Image(url=url)"
   ]
  },
  {
   "cell_type": "code",
   "execution_count": null,
   "metadata": {
    "collapsed": true
   },
   "outputs": [],
   "source": []
  }
 ],
 "metadata": {
  "kernelspec": {
   "display_name": "Python 2",
   "language": "python",
   "name": "python2"
  },
  "language_info": {
   "codemirror_mode": {
    "name": "ipython",
    "version": 2
   },
   "file_extension": ".py",
   "mimetype": "text/x-python",
   "name": "python",
   "nbconvert_exporter": "python",
   "pygments_lexer": "ipython2",
   "version": "2.7.9"
  }
 },
 "nbformat": 4,
 "nbformat_minor": 2
}
